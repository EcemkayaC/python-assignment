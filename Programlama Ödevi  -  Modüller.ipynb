{
 "cells": [
  {
   "cell_type": "markdown",
   "metadata": {},
   "source": [
    "## Programlama Ödevi  - Modüller\n",
    "\n",
    "\n",
    "### Proje 1 \n",
    "\n",
    "**Math** modülündeki hazır fonksiyonları kullanarak gelişmiş bir hesap makinesi geliştirmeye çalışın.\n",
    "\n",
    "### Proje 2 \n",
    "\n",
    "**Math** modülünde kullandığınız fonksiyonları kendiniz de ayrı bir modüle (Python dosyasına) yazmaya çalışın ve bu yazdığınız modülü kullanarak gelişmiş bir hesap makinesi yazın.\n",
    "\n"
   ]
  },
  {
   "cell_type": "code",
   "execution_count": 6,
   "metadata": {},
   "outputs": [
    {
     "name": "stdout",
     "output_type": "stream",
     "text": [
      "Advanced Calculator\n",
      "Select operation:\n",
      "1.Toplama (+)\n",
      "2.Çıkartma (-)\n",
      "3.Çarpma (*)\n",
      "4.Bölme (/)\n",
      "5.Üssü (^)\n",
      "6.Faktöriyel (!)\n",
      "7.Sinüs (sin)\n",
      "8.Cosinüs (cos)\n",
      "9.Tanjant (tan)\n",
      "Çıkmak için 'q' tuşuna basın.\n",
      "Seçiminizi girin(1/2/3/4/5/6/7/8/9 veya q): 1\n",
      "Birinci sayiyi giriniz: 23\n",
      "İkinci sayiyi giriniz: 14\n",
      "23.0 + 14.0 = 37.0\n",
      "Seçiminizi girin(1/2/3/4/5/6/7/8/9 veya q): 6\n",
      "bir sayi giriniz: 6\n",
      "6! = 720\n",
      "Seçiminizi girin(1/2/3/4/5/6/7/8/9 veya q): q\n",
      "Hesap makinesi kapatılıyor...\n"
     ]
    }
   ],
   "source": [
    "import math\n",
    "\n",
    "def advanced_calculator():\n",
    "    print(\"Advanced Calculator\")\n",
    "    print(\"Select operation:\")\n",
    "    print(\"1.Toplama (+)\")\n",
    "    print(\"2.Çıkartma (-)\")\n",
    "    print(\"3.Çarpma (*)\")\n",
    "    print(\"4.Bölme (/)\")\n",
    "    print(\"5.Üssü (^)\")\n",
    "    print(\"6.Faktöriyel (!)\")\n",
    "    print(\"7.Sinüs (sin)\")\n",
    "    print(\"8.Cosinüs (cos)\")\n",
    "    print(\"9.Tanjant (tan)\")\n",
    "    print(\"Çıkmak için 'q' tuşuna basın.\")\n",
    "\n",
    "    while True:\n",
    "        choice = input(\"Seçiminizi girin(1/2/3/4/5/6/7/8/9 veya q): \")\n",
    "        \n",
    "        if choice == 'q':\n",
    "            print(\"Hesap makinesi kapatılıyor...\")\n",
    "            break\n",
    "\n",
    "        if choice in ['1', '2', '3', '4', '5']:\n",
    "            num1 = float(input(\"Birinci sayiyi giriniz: \"))\n",
    "            num2 = float(input(\"İkinci sayiyi giriniz: \"))\n",
    "            \n",
    "            if choice == '1':\n",
    "                print(f\"{num1} + {num2} = {num1 + num2}\")\n",
    "            elif choice == '2':\n",
    "                print(f\"{num1} - {num2} = {num1 - num2}\")\n",
    "            elif choice == '3':\n",
    "                print(f\"{num1} * {num2} = {num1 * num2}\")\n",
    "            elif choice == '4':\n",
    "                if num2 != 0:\n",
    "                    print(f\"{num1} / {num2} = {num1 / num2}\")\n",
    "                else:\n",
    "                    print(\"sifir giremezsiniz.\")\n",
    "            elif choice == '5':\n",
    "                print(f\"{num1} ^ {num2} = {math.pow(num1, num2)}\")\n",
    "                \n",
    "        elif choice == '6':\n",
    "            num = int(input(\"bir sayi giriniz: \"))\n",
    "            if num >= 0:\n",
    "                print(f\"{num}! = {math.factorial(num)}\")\n",
    "            else:\n",
    "                print(\"negatif sayi girimezsiniz.\")\n",
    "        elif choice in ['7', '8', '9']:\n",
    "            angle = float(input(\"Aciyi derece cinsinden giriniz: \"))\n",
    "            \n",
    "            if choice == '7':\n",
    "                print(f\"sin({angle}) = {mymath.sine(angle)}\")\n",
    "            elif choice == '8':\n",
    "                print(f\"cos({angle}) = {mymath.cosine(angle)}\")\n",
    "            elif choice == '9':\n",
    "                print(f\"tan({angle}) = {mymath.tangent(angle)}\")\n",
    "        else:\n",
    "            print(\"Gecersiz islem.\")\n",
    "        \n",
    "advanced_calculator()\n"
   ]
  },
  {
   "cell_type": "code",
   "execution_count": null,
   "metadata": {},
   "outputs": [],
   "source": []
  }
 ],
 "metadata": {
  "kernelspec": {
   "display_name": "Python 3 (ipykernel)",
   "language": "python",
   "name": "python3"
  },
  "language_info": {
   "codemirror_mode": {
    "name": "ipython",
    "version": 3
   },
   "file_extension": ".py",
   "mimetype": "text/x-python",
   "name": "python",
   "nbconvert_exporter": "python",
   "pygments_lexer": "ipython3",
   "version": "3.11.4"
  }
 },
 "nbformat": 4,
 "nbformat_minor": 2
}
