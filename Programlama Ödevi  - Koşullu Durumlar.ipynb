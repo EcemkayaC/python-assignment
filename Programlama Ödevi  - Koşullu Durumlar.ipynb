{
 "cells": [
  {
   "cell_type": "markdown",
   "metadata": {},
   "source": [
    "## Programlama Ödevi  - Koşullu Durumlar\n",
    "*Tebrikler! Bölümü başarıyla bitirdiniz. Şimdi, öğrendiklerinizin akılda kalması için ödevinizi yapma zamanı!*"
   ]
  },
  {
   "cell_type": "markdown",
   "metadata": {},
   "source": [
    "### Problem 1\n",
    "\n",
    "Kullanıcıdan alınan boy ve kilo değerlerine göre beden kitle indeksini hesaplayın ve şu kurallara göre ekrana şu yazıları yazdırın.\n",
    "\n",
    "     Beden Kitle İndeksi: Kilo / Boy(m) *  Boy(m)\n",
    "    \n",
    "     BKİ 18.5'un altındaysa -------> Zayıf\n",
    "     \n",
    "     BKİ 18.5 ile 25 arasındaysa ------> Normal\n",
    "     \n",
    "     BKİ 25 ile 30 arasındaysa --------> Fazla Kilolu\n",
    "     \n",
    "     BKİ 30'un üstündeyse -------------> Obez\n",
    "     "
   ]
  },
  {
   "cell_type": "code",
   "execution_count": 3,
   "metadata": {},
   "outputs": [
    {
     "name": "stdout",
     "output_type": "stream",
     "text": [
      "kilo:47\n",
      "boy:1.53\n",
      "normal\n"
     ]
    }
   ],
   "source": [
    "weight = int(input(\"kilo:\"))\n",
    "height = float(input(\"boy:\"))\n",
    "\n",
    "index = weight/ (height**2)\n",
    "\n",
    "if index < 18.5:\n",
    "    print(\"zayıf\")\n",
    "elif 18.5 < index < 25:\n",
    "    print(\"normal\")\n",
    "elif 25 < index < 30:\n",
    "    print(\"fazla kilolu\")\n",
    "else:\n",
    "    print(\"obez\")\n",
    "\n"
   ]
  },
  {
   "cell_type": "markdown",
   "metadata": {},
   "source": [
    "### Problem 2\n",
    "\n",
    "Kullanıcıdan 3 tane sayı alın ve en büyük sayıyı ekrana yazdırın."
   ]
  },
  {
   "cell_type": "code",
   "execution_count": 6,
   "metadata": {},
   "outputs": [
    {
     "name": "stdout",
     "output_type": "stream",
     "text": [
      "a:3\n",
      "b:5\n",
      "c:2\n",
      "en buyuk sayi: 5\n"
     ]
    }
   ],
   "source": [
    "a = int(input(\"a:\"))\n",
    "b = int(input(\"b:\"))\n",
    "c = int(input(\"c:\"))\n",
    "\n",
    "if a>=b and a>=c:\n",
    "    print(\"en buyuk sayi:\",a)\n",
    "elif b>=a and b>=c:\n",
    "    print(\"en buyuk sayi:\",b)\n",
    "else:\n",
    "    print(\"en buyuk sayi:\",c)"
   ]
  },
  {
   "cell_type": "markdown",
   "metadata": {},
   "source": [
    "### Problem 3"
   ]
  },
  {
   "cell_type": "markdown",
   "metadata": {},
   "source": [
    "Kullanıcının girdiği **vize1,vize2,final notlarına** notlarına göre harf notunu hesaplayın.\n",
    "\n",
    "        Vize1 toplam notun %30'una etki edecek.\n",
    "\n",
    "        Vize2 toplam notun %30'una etki edecek.\n",
    "\n",
    "        Final toplam notun %40'ına etki edecek.\n",
    "\n",
    "\n",
    "        Toplam Not >=  90 -----> AA\n",
    "\n",
    "        Toplam Not >=  85 -----> BA\n",
    "\n",
    "        Toplam Not >=  80 -----> BB\n",
    "\n",
    "        Toplam Not >=  75 -----> CB\n",
    "\n",
    "        Toplam Not >=  70 -----> CC\n",
    "\n",
    "        Toplam Not >=  65 -----> DC\n",
    "\n",
    "        Toplam Not >=  60 -----> DD\n",
    "\n",
    "        Toplam Not >=  55 -----> FD\n",
    "\n",
    "        Toplam Not <  55 -----> FF\n",
    "\n"
   ]
  },
  {
   "cell_type": "code",
   "execution_count": 9,
   "metadata": {},
   "outputs": [
    {
     "name": "stdout",
     "output_type": "stream",
     "text": [
      "vize1:55\n",
      "vize2:60\n",
      "final:85\n",
      "DC\n"
     ]
    }
   ],
   "source": [
    "asg1 = int(input(\"vize1:\"))\n",
    "asg2 = int(input(\"vize2:\"))\n",
    "final = int(input(\"final:\"))\n",
    "\n",
    "\n",
    "total = asg1*3/10 + asg2*3/10 + final*4/10\n",
    "\n",
    "if total >= 90:\n",
    "    print(\"AA\")\n",
    "elif total >= 85:\n",
    "    print(\"BA\")\n",
    "elif total >= 80:\n",
    "    print(\"BB\")\n",
    "elif total >= 75:\n",
    "    print(\"CB\")\n",
    "elif total >= 70:\n",
    "    print(\"CC\")\n",
    "elif total >= 65:\n",
    "    print(\"DC\")\n",
    "elif total >= 60:\n",
    "    print(\"DD\")\n",
    "elif total >= 55:\n",
    "    print(\"FD\")\n",
    "else:\n",
    "    print(\"FF\")"
   ]
  },
  {
   "cell_type": "markdown",
   "metadata": {},
   "source": [
    "### Problem 4\n",
    "\n",
    "Şimdi de geometrik şekil hesaplama işlemi yapalım. İlk olarak kullanıcıdan üçgenin mi dörtgenin mi tipini bulmak istediğini sorun. \n",
    "\n",
    "Eğer kullanıcı \"Dörtgen\" cevabını verirse ,  4 tane kenar isteyip bu dörtgenin kare mi , dikdörtgen mi yoksa sıradan bir dörtgen mi olduğunu bulmaya çalışın.\n",
    "\n",
    "Eğer kullanıcı \"Üçgen\" cevabını verirse ,  3 tane kenar isteyip bu üçgenin ikizkenar mı , eşkenar mı yoksa sıradan bir üçgen mi olduğunu bulmaya çalışın. Eğer verilen kenarlar bir üçgen belirtmiyorsa, ekrana \"Üçgen belirtmiyor\" şeklinde bir yazı yazın.o\n",
    "\n",
    "*Üçgen belirtme şartını bilmiyorsunuz internetten bakabilirsiniz.*\n",
    "\n",
    "*Ayrıca , bu problemde mutlak değer bulmaya ihtiyacınız olacak. Bunun için, Pythonda hazır bir fonksiyon olan abs() fonksiyonunu kullanabilirsiniz. Kullanımı şu şekildedir ;*\n",
    "\n",
    "\n",
    "\n",
    "\n"
   ]
  },
  {
   "cell_type": "code",
   "execution_count": 1,
   "metadata": {},
   "outputs": [
    {
     "data": {
      "text/plain": [
       "4"
      ]
     },
     "execution_count": 1,
     "metadata": {},
     "output_type": "execute_result"
    }
   ],
   "source": [
    "abs(-4)"
   ]
  },
  {
   "cell_type": "code",
   "execution_count": 2,
   "metadata": {},
   "outputs": [
    {
     "data": {
      "text/plain": [
       "5"
      ]
     },
     "execution_count": 2,
     "metadata": {},
     "output_type": "execute_result"
    }
   ],
   "source": [
    "abs(5)"
   ]
  },
  {
   "cell_type": "markdown",
   "metadata": {
    "collapsed": true
   },
   "source": [
    "***Not: Bu problem sizin algoritma kurma becerinizi bir hayli geliştirecektir.***"
   ]
  },
  {
   "cell_type": "code",
   "execution_count": 29,
   "metadata": {},
   "outputs": [
    {
     "name": "stdout",
     "output_type": "stream",
     "text": [
      "hangi şekli istiyorsunuz:ucgen\n",
      "1.kenar:3\n",
      "2.kenar:3\n",
      "3.kenar:3\n",
      "eskenar ucgen\n"
     ]
    }
   ],
   "source": [
    "sekil = input(\"hangi şekli istiyorsunuz:\")\n",
    "\n",
    "\n",
    "if sekil == \"dortgen\":\n",
    "    a = int(input(\"1.kenar:\"))\n",
    "    b = int(input(\"2.kenar:\"))\n",
    "    c = int(input(\"3.kenar:\"))\n",
    "    d= int(input(\"4.kenar:\"))\n",
    "    \n",
    "    if a==b and a==c and a==d:\n",
    "        print(\"kare\")\n",
    "        \n",
    "    elif a==c and b==d:\n",
    "        print(\"dikdortgen\")\n",
    "    else:\n",
    "        print(\"dortgen\")\n",
    "        \n",
    "\n",
    "elif sekil == \"ucgen\":\n",
    "    a = int(input(\"1.kenar:\"))\n",
    "    b = int(input(\"2.kenar:\"))\n",
    "    c = int(input(\"3.kenar:\"))\n",
    "    if(abs(a+b) > c and abs(a+c) > b and abs(b+c) > a):    \n",
    "        if a==b and a==c:\n",
    "            print(\"eskenar ucgen\")\n",
    "        elif ((a == b and a != c) or (a == c and a != b) or (b == c and b != a)):\n",
    "            print(\"ikizkenar ucgen\")\n",
    "        else:\n",
    "            print(\"cesitkenar ucgen\")\n",
    "\n",
    "    else:\n",
    "        print(\"ucgen belirtmiyor\")\n",
    "        \n",
    "\n",
    "else:\n",
    "    print(\"secilen sekil uygun degil\")"
   ]
  },
  {
   "cell_type": "code",
   "execution_count": null,
   "metadata": {},
   "outputs": [],
   "source": []
  }
 ],
 "metadata": {
  "kernelspec": {
   "display_name": "Python 3 (ipykernel)",
   "language": "python",
   "name": "python3"
  },
  "language_info": {
   "codemirror_mode": {
    "name": "ipython",
    "version": 3
   },
   "file_extension": ".py",
   "mimetype": "text/x-python",
   "name": "python",
   "nbconvert_exporter": "python",
   "pygments_lexer": "ipython3",
   "version": "3.11.4"
  }
 },
 "nbformat": 4,
 "nbformat_minor": 2
}
